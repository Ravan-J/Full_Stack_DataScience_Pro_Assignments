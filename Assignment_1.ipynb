{
 "cells": [
  {
   "cell_type": "markdown",
   "id": "3b650aea-aee3-45d5-a739-a311ddb8e685",
   "metadata": {},
   "source": [
    "# Python Basics Variable"
   ]
  },
  {
   "cell_type": "markdown",
   "id": "52d91bba-ac65-4503-8f5a-2ca25c2784f3",
   "metadata": {
    "jp-MarkdownHeadingCollapsed": true,
    "tags": []
   },
   "source": [
    "Question 1"
   ]
  },
  {
   "cell_type": "code",
   "execution_count": 1,
   "id": "942d7c34-ee15-4954-85ed-c068f20792bb",
   "metadata": {},
   "outputs": [
    {
     "name": "stdout",
     "output_type": "stream",
     "text": [
      "15 5\n"
     ]
    }
   ],
   "source": [
    "x = 5\n",
    "y = 15\n",
    "x = x + y\n",
    "y = x - y\n",
    "x = x - y\n",
    "print(x,y)"
   ]
  },
  {
   "cell_type": "markdown",
   "id": "7a1024cb-3096-407e-a3ac-98c2e4112337",
   "metadata": {},
   "source": [
    "Question 2"
   ]
  },
  {
   "cell_type": "code",
   "execution_count": 2,
   "id": "685149b1-2665-4c8d-b5e0-e64bc320e805",
   "metadata": {},
   "outputs": [
    {
     "name": "stdin",
     "output_type": "stream",
     "text": [
      "length 2\n",
      "breadth 3\n"
     ]
    },
    {
     "name": "stdout",
     "output_type": "stream",
     "text": [
      "Area of rectangle is:6\n"
     ]
    }
   ],
   "source": [
    "length = int(input('length'))\n",
    "breadth = int(input('breadth'))\n",
    "print('Area of rectangle is:' + str(length*breadth))"
   ]
  },
  {
   "cell_type": "markdown",
   "id": "69d1e5cf-08d9-4376-bdcb-b72419ef1dfc",
   "metadata": {},
   "source": [
    "Question 3"
   ]
  },
  {
   "cell_type": "code",
   "execution_count": 9,
   "id": "ad2ad402-71c5-440d-86e5-6b10d5ffa022",
   "metadata": {},
   "outputs": [
    {
     "name": "stdin",
     "output_type": "stream",
     "text": [
      "Please enter temperatures Celsius: 38\n"
     ]
    },
    {
     "name": "stdout",
     "output_type": "stream",
     "text": [
      "Temperature in Fahrenheit is: 98.4\n"
     ]
    }
   ],
   "source": [
    "Celsius = int(input('Please enter temperatures Celsius:'))\n",
    "Fahrenheit = (Celsius * (9/5)) + 30\n",
    "print('Temperature in Fahrenheit is: ' + str(Fahrenheit))"
   ]
  },
  {
   "cell_type": "markdown",
   "id": "78cdbced-0a7b-4598-9476-1af529b72bde",
   "metadata": {},
   "source": [
    "# String Based Questions"
   ]
  },
  {
   "cell_type": "markdown",
   "id": "eb50b455-ff84-424f-96b5-99a6b9fd87be",
   "metadata": {},
   "source": [
    "Question 1"
   ]
  },
  {
   "cell_type": "code",
   "execution_count": 15,
   "id": "19e05db3-67e6-4cdf-8181-79916d578e40",
   "metadata": {},
   "outputs": [
    {
     "name": "stdin",
     "output_type": "stream",
     "text": [
      "Please enter the input string:  ewew\n"
     ]
    },
    {
     "name": "stdout",
     "output_type": "stream",
     "text": [
      "Length of string is: 4\n"
     ]
    }
   ],
   "source": [
    "String = input('Please enter the input string: ')\n",
    "print('Length of string is: ' + str(len(String)))"
   ]
  },
  {
   "cell_type": "markdown",
   "id": "0973ec97-2b26-4176-a08b-a15cd6c5c9bf",
   "metadata": {},
   "source": [
    "Question 2"
   ]
  },
  {
   "cell_type": "code",
   "execution_count": 36,
   "id": "7303ebe5-9ecd-4342-a6f3-0cb73f485e5b",
   "metadata": {},
   "outputs": [
    {
     "name": "stdin",
     "output_type": "stream",
     "text": [
      "Please enter the input string:  aaaaaaa\n"
     ]
    },
    {
     "name": "stdout",
     "output_type": "stream",
     "text": [
      "7\n"
     ]
    }
   ],
   "source": [
    "String = input('Please enter the input string: ')\n",
    "vowels = ['a','e','i','o','u']\n",
    "out = sum([String.count(i) for i in vowels])\n",
    "print(out)"
   ]
  },
  {
   "cell_type": "markdown",
   "id": "460bc7aa-2bd8-4fa3-bea2-8a07c8ff2496",
   "metadata": {},
   "source": [
    "Question 3"
   ]
  },
  {
   "cell_type": "code",
   "execution_count": 41,
   "id": "85f0a8d5-b82c-483b-a32f-47932a61983c",
   "metadata": {},
   "outputs": [
    {
     "name": "stdin",
     "output_type": "stream",
     "text": [
      "Please enter the input string:  qwerty\n"
     ]
    },
    {
     "name": "stdout",
     "output_type": "stream",
     "text": [
      "Reversed String is: ytrewq\n"
     ]
    }
   ],
   "source": [
    "String = input('Please enter the input string: ')\n",
    "String = String[::-1]\n",
    "print('Reversed String is: ' + String)"
   ]
  },
  {
   "cell_type": "markdown",
   "id": "196fea69-7df3-4742-a4b4-bd52494a1d07",
   "metadata": {},
   "source": [
    "Question 4"
   ]
  },
  {
   "cell_type": "code",
   "execution_count": 28,
   "id": "26545e16-d7db-4c61-962c-8ad74547f79c",
   "metadata": {},
   "outputs": [
    {
     "name": "stdin",
     "output_type": "stream",
     "text": [
      "Please enter the input string:  abctcba\n"
     ]
    },
    {
     "name": "stdout",
     "output_type": "stream",
     "text": [
      "Yes\n"
     ]
    }
   ],
   "source": [
    "String = input('Please enter the input string: ')\n",
    "length = len(String)\n",
    "if String[:(length-1)//2] == String[-1:((length-1)//2)+1-(length%2):-1]:\n",
    "    print('Yes')\n",
    "else:\n",
    "    print('No')"
   ]
  },
  {
   "cell_type": "markdown",
   "id": "efa9a8d8-c6d0-4cad-88ef-ab64db4f86e9",
   "metadata": {},
   "source": [
    "Question 5"
   ]
  },
  {
   "cell_type": "code",
   "execution_count": 32,
   "id": "c77e9b96-6745-4901-9bd3-223a2d715c50",
   "metadata": {},
   "outputs": [
    {
     "name": "stdin",
     "output_type": "stream",
     "text": [
      "Please enter the input string:  sai krishna japa   asdas    asdasd\n"
     ]
    },
    {
     "data": {
      "text/plain": [
       "'saikrishnajapaasdasasdasd'"
      ]
     },
     "execution_count": 32,
     "metadata": {},
     "output_type": "execute_result"
    }
   ],
   "source": [
    "String = input('Please enter the input string: ')\n",
    "''.join(String.split(' '))"
   ]
  }
 ],
 "metadata": {
  "kernelspec": {
   "display_name": "Python 3 (ipykernel)",
   "language": "python",
   "name": "python3"
  },
  "language_info": {
   "codemirror_mode": {
    "name": "ipython",
    "version": 3
   },
   "file_extension": ".py",
   "mimetype": "text/x-python",
   "name": "python",
   "nbconvert_exporter": "python",
   "pygments_lexer": "ipython3",
   "version": "3.10.8"
  }
 },
 "nbformat": 4,
 "nbformat_minor": 5
}
